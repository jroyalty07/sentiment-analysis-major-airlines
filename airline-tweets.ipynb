{
 "cells": [
  {
   "cell_type": "markdown",
   "metadata": {},
   "source": [
    "# Project 7 - Twitter Airline Sentiment Analysis\n",
    "\n",
    "### Objective: \n",
    "Perform sentiment analysis of tweets directed at major airlines. The dataset is a list of tweets with manually generated positive/negative labels.\n",
    "\n",
    "### Approach\n",
    "1. Focus on sentiment, reasons for negative sentiment, and tweet text.\n",
    "\n",
    "2. Clean data\n",
    "\n",
    "3. EDA – frequency charts\n",
    "\n",
    "4. Text vectorization for word clustering\n"
   ]
  },
  {
   "cell_type": "code",
   "execution_count": 36,
   "metadata": {
    "collapsed": true
   },
   "outputs": [],
   "source": [
    "import pandas as pd \n",
    "import numpy as np\n",
    "import matplotlib.pyplot as plt\n",
    "\n",
    "from sklearn.feature_extraction.text import CountVectorizer, TfidfVectorizer\n",
    "from sklearn.model_selection import train_test_split\n",
    "from sklearn.preprocessing import StandardScaler, LabelEncoder\n",
    "from sklearn.decomposition import PCA, TruncatedSVD\n",
    "from sklearn.cluster import KMeans\n",
    "from sklearn import metrics\n",
    "\n",
    "%matplotlib inline"
   ]
  },
  {
   "cell_type": "markdown",
   "metadata": {},
   "source": [
    "# Load data"
   ]
  },
  {
   "cell_type": "code",
   "execution_count": 37,
   "metadata": {
    "collapsed": false
   },
   "outputs": [],
   "source": [
    "df = pd.read_csv('Tweets.csv')\n",
    "y_actual = df['airline_sentiment']\n",
    "df = df.drop(['negativereason_confidence',\n",
    "              'airline_sentiment_confidence',\n",
    "              'airline_sentiment_gold',\n",
    "              'negativereason_gold',\n",
    "              'tweet_coord',\n",
    "              'tweet_location',\n",
    "              'user_timezone',], \n",
    "             axis = 1)"
   ]
  },
  {
   "cell_type": "code",
   "execution_count": 38,
   "metadata": {
    "collapsed": false
   },
   "outputs": [
    {
     "data": {
      "text/html": [
       "<div>\n",
       "<table border=\"1\" class=\"dataframe\">\n",
       "  <thead>\n",
       "    <tr style=\"text-align: right;\">\n",
       "      <th></th>\n",
       "      <th>tweet_id</th>\n",
       "      <th>airline_sentiment</th>\n",
       "      <th>negativereason</th>\n",
       "      <th>airline</th>\n",
       "      <th>name</th>\n",
       "      <th>retweet_count</th>\n",
       "      <th>text</th>\n",
       "      <th>tweet_created</th>\n",
       "    </tr>\n",
       "  </thead>\n",
       "  <tbody>\n",
       "    <tr>\n",
       "      <th>0</th>\n",
       "      <td>570306133677760513</td>\n",
       "      <td>neutral</td>\n",
       "      <td>NaN</td>\n",
       "      <td>Virgin America</td>\n",
       "      <td>cairdin</td>\n",
       "      <td>0</td>\n",
       "      <td>@VirginAmerica What @dhepburn said.</td>\n",
       "      <td>2015-02-24 11:35:52 -0800</td>\n",
       "    </tr>\n",
       "    <tr>\n",
       "      <th>1</th>\n",
       "      <td>570301130888122368</td>\n",
       "      <td>positive</td>\n",
       "      <td>NaN</td>\n",
       "      <td>Virgin America</td>\n",
       "      <td>jnardino</td>\n",
       "      <td>0</td>\n",
       "      <td>@VirginAmerica plus you've added commercials t...</td>\n",
       "      <td>2015-02-24 11:15:59 -0800</td>\n",
       "    </tr>\n",
       "    <tr>\n",
       "      <th>2</th>\n",
       "      <td>570301083672813571</td>\n",
       "      <td>neutral</td>\n",
       "      <td>NaN</td>\n",
       "      <td>Virgin America</td>\n",
       "      <td>yvonnalynn</td>\n",
       "      <td>0</td>\n",
       "      <td>@VirginAmerica I didn't today... Must mean I n...</td>\n",
       "      <td>2015-02-24 11:15:48 -0800</td>\n",
       "    </tr>\n",
       "  </tbody>\n",
       "</table>\n",
       "</div>"
      ],
      "text/plain": [
       "             tweet_id airline_sentiment negativereason         airline  \\\n",
       "0  570306133677760513           neutral            NaN  Virgin America   \n",
       "1  570301130888122368          positive            NaN  Virgin America   \n",
       "2  570301083672813571           neutral            NaN  Virgin America   \n",
       "\n",
       "         name  retweet_count  \\\n",
       "0     cairdin              0   \n",
       "1    jnardino              0   \n",
       "2  yvonnalynn              0   \n",
       "\n",
       "                                                text  \\\n",
       "0                @VirginAmerica What @dhepburn said.   \n",
       "1  @VirginAmerica plus you've added commercials t...   \n",
       "2  @VirginAmerica I didn't today... Must mean I n...   \n",
       "\n",
       "               tweet_created  \n",
       "0  2015-02-24 11:35:52 -0800  \n",
       "1  2015-02-24 11:15:59 -0800  \n",
       "2  2015-02-24 11:15:48 -0800  "
      ]
     },
     "execution_count": 38,
     "metadata": {},
     "output_type": "execute_result"
    }
   ],
   "source": [
    "df.head(3)"
   ]
  },
  {
   "cell_type": "code",
   "execution_count": 39,
   "metadata": {
    "collapsed": false
   },
   "outputs": [
    {
     "name": "stdout",
     "output_type": "stream",
     "text": [
      "171\n"
     ]
    },
    {
     "data": {
      "text/html": [
       "<div>\n",
       "<table border=\"1\" class=\"dataframe\">\n",
       "  <thead>\n",
       "    <tr style=\"text-align: right;\">\n",
       "      <th></th>\n",
       "      <th>tweet_id</th>\n",
       "      <th>airline_sentiment</th>\n",
       "      <th>negativereason</th>\n",
       "      <th>airline</th>\n",
       "      <th>name</th>\n",
       "      <th>retweet_count</th>\n",
       "      <th>text</th>\n",
       "      <th>tweet_created</th>\n",
       "    </tr>\n",
       "  </thead>\n",
       "  <tbody>\n",
       "    <tr>\n",
       "      <th>0</th>\n",
       "      <td>570306133677760513</td>\n",
       "      <td>neutral</td>\n",
       "      <td>NaN</td>\n",
       "      <td>Virgin America</td>\n",
       "      <td>cairdin</td>\n",
       "      <td>0</td>\n",
       "      <td>what @dhepburn said.</td>\n",
       "      <td>2015-02-24 11:35:52 -0800</td>\n",
       "    </tr>\n",
       "    <tr>\n",
       "      <th>1</th>\n",
       "      <td>570301130888122368</td>\n",
       "      <td>positive</td>\n",
       "      <td>NaN</td>\n",
       "      <td>Virgin America</td>\n",
       "      <td>jnardino</td>\n",
       "      <td>0</td>\n",
       "      <td>plus you've added commercials to the experien...</td>\n",
       "      <td>2015-02-24 11:15:59 -0800</td>\n",
       "    </tr>\n",
       "    <tr>\n",
       "      <th>2</th>\n",
       "      <td>570301083672813571</td>\n",
       "      <td>neutral</td>\n",
       "      <td>NaN</td>\n",
       "      <td>Virgin America</td>\n",
       "      <td>yvonnalynn</td>\n",
       "      <td>0</td>\n",
       "      <td>i didn't today... must mean i need to take an...</td>\n",
       "      <td>2015-02-24 11:15:48 -0800</td>\n",
       "    </tr>\n",
       "    <tr>\n",
       "      <th>3</th>\n",
       "      <td>570301031407624196</td>\n",
       "      <td>negative</td>\n",
       "      <td>Bad Flight</td>\n",
       "      <td>Virgin America</td>\n",
       "      <td>jnardino</td>\n",
       "      <td>0</td>\n",
       "      <td>it's really aggressive to blast obnoxious \"en...</td>\n",
       "      <td>2015-02-24 11:15:36 -0800</td>\n",
       "    </tr>\n",
       "    <tr>\n",
       "      <th>4</th>\n",
       "      <td>570300817074462722</td>\n",
       "      <td>negative</td>\n",
       "      <td>Can't Tell</td>\n",
       "      <td>Virgin America</td>\n",
       "      <td>jnardino</td>\n",
       "      <td>0</td>\n",
       "      <td>and it's a really big bad thing about it</td>\n",
       "      <td>2015-02-24 11:14:45 -0800</td>\n",
       "    </tr>\n",
       "  </tbody>\n",
       "</table>\n",
       "</div>"
      ],
      "text/plain": [
       "             tweet_id airline_sentiment negativereason         airline  \\\n",
       "0  570306133677760513           neutral            NaN  Virgin America   \n",
       "1  570301130888122368          positive            NaN  Virgin America   \n",
       "2  570301083672813571           neutral            NaN  Virgin America   \n",
       "3  570301031407624196          negative     Bad Flight  Virgin America   \n",
       "4  570300817074462722          negative     Can't Tell  Virgin America   \n",
       "\n",
       "         name  retweet_count  \\\n",
       "0     cairdin              0   \n",
       "1    jnardino              0   \n",
       "2  yvonnalynn              0   \n",
       "3    jnardino              0   \n",
       "4    jnardino              0   \n",
       "\n",
       "                                                text  \\\n",
       "0                               what @dhepburn said.   \n",
       "1   plus you've added commercials to the experien...   \n",
       "2   i didn't today... must mean i need to take an...   \n",
       "3   it's really aggressive to blast obnoxious \"en...   \n",
       "4           and it's a really big bad thing about it   \n",
       "\n",
       "               tweet_created  \n",
       "0  2015-02-24 11:35:52 -0800  \n",
       "1  2015-02-24 11:15:59 -0800  \n",
       "2  2015-02-24 11:15:48 -0800  \n",
       "3  2015-02-24 11:15:36 -0800  \n",
       "4  2015-02-24 11:14:45 -0800  "
      ]
     },
     "execution_count": 39,
     "metadata": {},
     "output_type": "execute_result"
    }
   ],
   "source": [
    "airlines = ['@united','@americanair','@virginamerica',\n",
    "            '@usairways','@southwestair','@delta','@jetblue']\n",
    "df['text'] = df['text'].str.lower()\n",
    "\n",
    "#Remove twitter tags\n",
    "for a in airlines:\n",
    "    df['text'] = df['text'].str.replace(a,'')\n",
    "\n",
    "print len(df[df['text'].str.contains('jetblue')]['text'])\n",
    "\n",
    "df.head()"
   ]
  },
  {
   "cell_type": "markdown",
   "metadata": {},
   "source": [
    "# Exploratory Data Anaylsis"
   ]
  },
  {
   "cell_type": "code",
   "execution_count": 40,
   "metadata": {
    "collapsed": false
   },
   "outputs": [
    {
     "data": {
      "image/png": "[encoded data removed]",
      "text/plain": [
       "<matplotlib.figure.Figure at 0x10342fed0>"
      ]
     },
     "metadata": {},
     "output_type": "display_data"
    }
   ],
   "source": [
    "df['airline_sentiment'].value_counts().plot(kind='bar')\n",
    "plt.title(\"Total airline sentiment\")\n",
    "plt.show()\n",
    "# Many more negative tweets than positive"
   ]
  },
  {
   "cell_type": "code",
   "execution_count": 41,
   "metadata": {
    "collapsed": false
   },
   "outputs": [
    {
     "data": {
      "image/png": "[encoded data removed]",
      "text/plain": [
       "<matplotlib.figure.Figure at 0x1147a6d90>"
      ]
     },
     "metadata": {},
     "output_type": "display_data"
    }
   ],
   "source": [
    "ndf = df['negativereason'].dropna()\n",
    "\n",
    "ndf.value_counts().plot(kind='bar')\n",
    "plt.title(\"Reasons for negative tweets\")\n",
    "plt.show()"
   ]
  },
  {
   "cell_type": "code",
   "execution_count": 42,
   "metadata": {
    "collapsed": false
   },
   "outputs": [
    {
     "data": {
      "image/png": "[encoded data removed]",
      "text/plain": [
       "<matplotlib.figure.Figure at 0x1147a6e50>"
      ]
     },
     "metadata": {},
     "output_type": "display_data"
    }
   ],
   "source": [
    "data = df.copy()\n",
    "data['Sentiment']=1\n",
    "data.head()\n",
    "groupby_object=data[['airline','airline_sentiment','Sentiment']].groupby(['airline','airline_sentiment']).aggregate(sum)\n",
    "groupby_object.unstack(level=1).plot(kind='bar')\n",
    "plt.ylabel('# of tweets')\n",
    "plt.legend(loc=2,prop={'size':10})\n",
    "plt.title('Sentiment by airline')\n",
    "plt.show()"
   ]
  },
  {
   "cell_type": "code",
   "execution_count": 43,
   "metadata": {
    "collapsed": false
   },
   "outputs": [
    {
     "name": "stdout",
     "output_type": "stream",
     "text": [
      "Positive word frequency table\n"
     ]
    },
    {
     "data": {
      "text/html": [
       "<div>\n",
       "<table border=\"1\" class=\"dataframe\">\n",
       "  <thead>\n",
       "    <tr style=\"text-align: right;\">\n",
       "      <th></th>\n",
       "      <th>Frequency</th>\n",
       "    </tr>\n",
       "  </thead>\n",
       "  <tbody>\n",
       "    <tr>\n",
       "      <th>thanks</th>\n",
       "      <td>436.938092</td>\n",
       "    </tr>\n",
       "    <tr>\n",
       "      <th>thank</th>\n",
       "      <td>340.779830</td>\n",
       "    </tr>\n",
       "    <tr>\n",
       "      <th>flight</th>\n",
       "      <td>231.817229</td>\n",
       "    </tr>\n",
       "    <tr>\n",
       "      <th>http</th>\n",
       "      <td>165.733030</td>\n",
       "    </tr>\n",
       "    <tr>\n",
       "      <th>great</th>\n",
       "      <td>154.052625</td>\n",
       "    </tr>\n",
       "    <tr>\n",
       "      <th>just</th>\n",
       "      <td>128.987396</td>\n",
       "    </tr>\n",
       "    <tr>\n",
       "      <th>love</th>\n",
       "      <td>105.659453</td>\n",
       "    </tr>\n",
       "    <tr>\n",
       "      <th>service</th>\n",
       "      <td>93.924894</td>\n",
       "    </tr>\n",
       "    <tr>\n",
       "      <th>good</th>\n",
       "      <td>86.225641</td>\n",
       "    </tr>\n",
       "    <tr>\n",
       "      <th>awesome</th>\n",
       "      <td>76.027290</td>\n",
       "    </tr>\n",
       "  </tbody>\n",
       "</table>\n",
       "</div>"
      ],
      "text/plain": [
       "          Frequency\n",
       "thanks   436.938092\n",
       "thank    340.779830\n",
       "flight   231.817229\n",
       "http     165.733030\n",
       "great    154.052625\n",
       "just     128.987396\n",
       "love     105.659453\n",
       "service   93.924894\n",
       "good      86.225641\n",
       "awesome   76.027290"
      ]
     },
     "execution_count": 43,
     "metadata": {},
     "output_type": "execute_result"
    }
   ],
   "source": [
    "#POSITIVE TWEETS\n",
    "positive_tweets = df[df['airline_sentiment'] == 'positive']['text']\n",
    "\n",
    "v = TfidfVectorizer(stop_words='english', \n",
    "                        token_pattern='[A-Za-z]{4,50}', \n",
    "                        ngram_range=(1, 1),\n",
    "                        max_features = 20,\n",
    "                        min_df = 2,\n",
    "                        max_df = .5,\n",
    "                        )\n",
    "\n",
    "p_vec = v.fit(positive_tweets)\n",
    "positive_text = v.fit_transform(positive_tweets)\n",
    "\n",
    "ndf = pd.DataFrame(positive_text.todense(), columns = p_vec.get_feature_names())\n",
    "ndf\n",
    "\n",
    "temp = []\n",
    "for col in ndf.columns.values:\n",
    "    temp.append(np.sum(ndf[col]))\n",
    "\n",
    "pos_frequency = pd.DataFrame(temp, index = ndf.columns.values, columns = ['Frequency']).sort_values('Frequency', ascending = False)\n",
    "p = ndf.columns.values\n",
    "print \"Positive word frequency table\"\n",
    "pos_frequency[:10]"
   ]
  },
  {
   "cell_type": "code",
   "execution_count": 45,
   "metadata": {
    "collapsed": false
   },
   "outputs": [
    {
     "data": {
      "text/html": [
       "<div>\n",
       "<table border=\"1\" class=\"dataframe\">\n",
       "  <thead>\n",
       "    <tr style=\"text-align: right;\">\n",
       "      <th></th>\n",
       "      <th>0</th>\n",
       "      <th>1</th>\n",
       "      <th>2</th>\n",
       "      <th>3</th>\n",
       "      <th>4</th>\n",
       "      <th>5</th>\n",
       "      <th>6</th>\n",
       "      <th>7</th>\n",
       "      <th>8</th>\n",
       "      <th>9</th>\n",
       "      <th>10</th>\n",
       "      <th>11</th>\n",
       "      <th>12</th>\n",
       "      <th>13</th>\n",
       "    </tr>\n",
       "  </thead>\n",
       "  <tbody>\n",
       "    <tr>\n",
       "      <th>airline</th>\n",
       "      <td>0.009090</td>\n",
       "      <td>0.012481</td>\n",
       "      <td>0.035865</td>\n",
       "      <td>0.031891</td>\n",
       "      <td>0.025857</td>\n",
       "      <td>0.049663</td>\n",
       "      <td>0.098264</td>\n",
       "      <td>-0.000571</td>\n",
       "      <td>0.000269</td>\n",
       "      <td>0.171006</td>\n",
       "      <td>0.417409</td>\n",
       "      <td>-0.052984</td>\n",
       "      <td>0.130235</td>\n",
       "      <td>-0.059699</td>\n",
       "    </tr>\n",
       "    <tr>\n",
       "      <th>amazing</th>\n",
       "      <td>0.014159</td>\n",
       "      <td>0.018739</td>\n",
       "      <td>0.032714</td>\n",
       "      <td>0.020591</td>\n",
       "      <td>0.013926</td>\n",
       "      <td>0.057610</td>\n",
       "      <td>0.069169</td>\n",
       "      <td>0.114869</td>\n",
       "      <td>0.010833</td>\n",
       "      <td>0.013923</td>\n",
       "      <td>0.064471</td>\n",
       "      <td>-0.031053</td>\n",
       "      <td>-0.017119</td>\n",
       "      <td>0.059876</td>\n",
       "    </tr>\n",
       "    <tr>\n",
       "      <th>awesome</th>\n",
       "      <td>0.032203</td>\n",
       "      <td>0.017967</td>\n",
       "      <td>0.040876</td>\n",
       "      <td>0.001137</td>\n",
       "      <td>0.026676</td>\n",
       "      <td>0.020507</td>\n",
       "      <td>0.058968</td>\n",
       "      <td>0.090385</td>\n",
       "      <td>0.004302</td>\n",
       "      <td>0.804236</td>\n",
       "      <td>-0.446031</td>\n",
       "      <td>-0.116383</td>\n",
       "      <td>0.026424</td>\n",
       "      <td>-0.329721</td>\n",
       "    </tr>\n",
       "    <tr>\n",
       "      <th>best</th>\n",
       "      <td>0.014949</td>\n",
       "      <td>0.022130</td>\n",
       "      <td>0.049139</td>\n",
       "      <td>0.022850</td>\n",
       "      <td>0.017814</td>\n",
       "      <td>0.102925</td>\n",
       "      <td>0.127683</td>\n",
       "      <td>0.160138</td>\n",
       "      <td>-0.007602</td>\n",
       "      <td>0.258357</td>\n",
       "      <td>0.725593</td>\n",
       "      <td>-0.170871</td>\n",
       "      <td>0.176313</td>\n",
       "      <td>-0.206602</td>\n",
       "    </tr>\n",
       "    <tr>\n",
       "      <th>crew</th>\n",
       "      <td>0.017298</td>\n",
       "      <td>0.011047</td>\n",
       "      <td>0.076957</td>\n",
       "      <td>0.004229</td>\n",
       "      <td>0.058446</td>\n",
       "      <td>0.003049</td>\n",
       "      <td>-0.014202</td>\n",
       "      <td>-0.010899</td>\n",
       "      <td>0.021779</td>\n",
       "      <td>0.080688</td>\n",
       "      <td>-0.044770</td>\n",
       "      <td>-0.031154</td>\n",
       "      <td>0.009801</td>\n",
       "      <td>-0.019622</td>\n",
       "    </tr>\n",
       "  </tbody>\n",
       "</table>\n",
       "</div>"
      ],
      "text/plain": [
       "               0         1         2         3         4         5         6   \\\n",
       "airline  0.009090  0.012481  0.035865  0.031891  0.025857  0.049663  0.098264   \n",
       "amazing  0.014159  0.018739  0.032714  0.020591  0.013926  0.057610  0.069169   \n",
       "awesome  0.032203  0.017967  0.040876  0.001137  0.026676  0.020507  0.058968   \n",
       "best     0.014949  0.022130  0.049139  0.022850  0.017814  0.102925  0.127683   \n",
       "crew     0.017298  0.011047  0.076957  0.004229  0.058446  0.003049 -0.014202   \n",
       "\n",
       "               7         8         9         10        11        12        13  \n",
       "airline -0.000571  0.000269  0.171006  0.417409 -0.052984  0.130235 -0.059699  \n",
       "amazing  0.114869  0.010833  0.013923  0.064471 -0.031053 -0.017119  0.059876  \n",
       "awesome  0.090385  0.004302  0.804236 -0.446031 -0.116383  0.026424 -0.329721  \n",
       "best     0.160138 -0.007602  0.258357  0.725593 -0.170871  0.176313 -0.206602  \n",
       "crew    -0.010899  0.021779  0.080688 -0.044770 -0.031154  0.009801 -0.019622  "
      ]
     },
     "execution_count": 45,
     "metadata": {},
     "output_type": "execute_result"
    }
   ],
   "source": [
    "SVD = TruncatedSVD(n_components = 14, random_state=42)\n",
    "SVD.fit_transform(positive_text)\n",
    "\n",
    "SVD.explained_variance_ratio_.sum()\n",
    "pos_words = pd.DataFrame(SVD.components_.T, index = p_vec.get_feature_names())\n",
    "pos_words.head()"
   ]
  },
  {
   "cell_type": "code",
   "execution_count": null,
   "metadata": {
    "collapsed": false
   },
   "outputs": [],
   "source": []
  },
  {
   "cell_type": "code",
   "execution_count": 46,
   "metadata": {
    "collapsed": false
   },
   "outputs": [
    {
     "data": {
      "text/html": [
       "<div>\n",
       "<table border=\"1\" class=\"dataframe\">\n",
       "  <thead>\n",
       "    <tr style=\"text-align: right;\">\n",
       "      <th></th>\n",
       "      <th>Frequency</th>\n",
       "    </tr>\n",
       "  </thead>\n",
       "  <tbody>\n",
       "    <tr>\n",
       "      <th>flight</th>\n",
       "      <td>1505.926681</td>\n",
       "    </tr>\n",
       "    <tr>\n",
       "      <th>cancelled</th>\n",
       "      <td>500.679455</td>\n",
       "    </tr>\n",
       "    <tr>\n",
       "      <th>service</th>\n",
       "      <td>485.565256</td>\n",
       "    </tr>\n",
       "    <tr>\n",
       "      <th>just</th>\n",
       "      <td>456.799719</td>\n",
       "    </tr>\n",
       "    <tr>\n",
       "      <th>help</th>\n",
       "      <td>432.834791</td>\n",
       "    </tr>\n",
       "  </tbody>\n",
       "</table>\n",
       "</div>"
      ],
      "text/plain": [
       "             Frequency\n",
       "flight     1505.926681\n",
       "cancelled   500.679455\n",
       "service     485.565256\n",
       "just        456.799719\n",
       "help        432.834791"
      ]
     },
     "execution_count": 46,
     "metadata": {},
     "output_type": "execute_result"
    }
   ],
   "source": [
    "# NEGATIVE TWEETS\n",
    "negative_tweets = df[df['airline_sentiment'] == 'negative']['text']\n",
    "\n",
    "n_vec = v.fit(negative_tweets)\n",
    "negative_text = v.fit_transform(negative_tweets)\n",
    "\n",
    "ndf = pd.DataFrame(negative_text.todense(), columns = n_vec.get_feature_names())\n",
    "ndf\n",
    "\n",
    "temp = []\n",
    "for col in ndf.columns.values:\n",
    "    temp.append(np.sum(ndf[col]))\n",
    "\n",
    "neg_frequency = pd.DataFrame(temp, index = ndf.columns.values, columns = ['Frequency']).sort_values('Frequency', ascending = False)\n",
    "neg_frequency.head()"
   ]
  },
  {
   "cell_type": "code",
   "execution_count": 47,
   "metadata": {
    "collapsed": false
   },
   "outputs": [
    {
     "data": {
      "text/html": [
       "<div>\n",
       "<table border=\"1\" class=\"dataframe\">\n",
       "  <thead>\n",
       "    <tr style=\"text-align: right;\">\n",
       "      <th></th>\n",
       "      <th>0</th>\n",
       "      <th>1</th>\n",
       "      <th>2</th>\n",
       "      <th>3</th>\n",
       "      <th>4</th>\n",
       "      <th>5</th>\n",
       "      <th>6</th>\n",
       "      <th>7</th>\n",
       "      <th>8</th>\n",
       "      <th>9</th>\n",
       "      <th>10</th>\n",
       "      <th>11</th>\n",
       "      <th>12</th>\n",
       "      <th>13</th>\n",
       "    </tr>\n",
       "  </thead>\n",
       "  <tbody>\n",
       "    <tr>\n",
       "      <th>cancelled</th>\n",
       "      <td>0.206052</td>\n",
       "      <td>0.053729</td>\n",
       "      <td>0.256403</td>\n",
       "      <td>0.537740</td>\n",
       "      <td>0.300424</td>\n",
       "      <td>0.348373</td>\n",
       "      <td>-0.182365</td>\n",
       "      <td>-0.080782</td>\n",
       "      <td>0.131856</td>\n",
       "      <td>-0.039451</td>\n",
       "      <td>-0.054484</td>\n",
       "      <td>0.050685</td>\n",
       "      <td>-0.024647</td>\n",
       "      <td>-0.019786</td>\n",
       "    </tr>\n",
       "    <tr>\n",
       "      <th>customer</th>\n",
       "      <td>0.040853</td>\n",
       "      <td>0.597209</td>\n",
       "      <td>-0.231947</td>\n",
       "      <td>0.023886</td>\n",
       "      <td>0.016927</td>\n",
       "      <td>0.017864</td>\n",
       "      <td>0.002515</td>\n",
       "      <td>-0.010386</td>\n",
       "      <td>-0.009554</td>\n",
       "      <td>0.006686</td>\n",
       "      <td>-0.040284</td>\n",
       "      <td>-0.030180</td>\n",
       "      <td>-0.026582</td>\n",
       "      <td>0.018302</td>\n",
       "    </tr>\n",
       "    <tr>\n",
       "      <th>delayed</th>\n",
       "      <td>0.102654</td>\n",
       "      <td>0.018021</td>\n",
       "      <td>0.060898</td>\n",
       "      <td>-0.067235</td>\n",
       "      <td>-0.123148</td>\n",
       "      <td>0.014226</td>\n",
       "      <td>-0.125425</td>\n",
       "      <td>0.054885</td>\n",
       "      <td>-0.090437</td>\n",
       "      <td>0.676549</td>\n",
       "      <td>0.474819</td>\n",
       "      <td>-0.259385</td>\n",
       "      <td>-0.045665</td>\n",
       "      <td>0.015138</td>\n",
       "    </tr>\n",
       "    <tr>\n",
       "      <th>flight</th>\n",
       "      <td>0.938985</td>\n",
       "      <td>-0.156367</td>\n",
       "      <td>-0.229876</td>\n",
       "      <td>-0.095150</td>\n",
       "      <td>-0.006622</td>\n",
       "      <td>-0.080802</td>\n",
       "      <td>0.069457</td>\n",
       "      <td>0.016728</td>\n",
       "      <td>-0.036104</td>\n",
       "      <td>-0.057552</td>\n",
       "      <td>-0.041218</td>\n",
       "      <td>-0.018984</td>\n",
       "      <td>-0.008199</td>\n",
       "      <td>-0.006331</td>\n",
       "    </tr>\n",
       "    <tr>\n",
       "      <th>flightled</th>\n",
       "      <td>0.104085</td>\n",
       "      <td>0.030010</td>\n",
       "      <td>0.154799</td>\n",
       "      <td>0.321142</td>\n",
       "      <td>0.169074</td>\n",
       "      <td>0.203668</td>\n",
       "      <td>-0.112183</td>\n",
       "      <td>-0.046553</td>\n",
       "      <td>0.073724</td>\n",
       "      <td>-0.028702</td>\n",
       "      <td>-0.041669</td>\n",
       "      <td>0.039886</td>\n",
       "      <td>-0.005831</td>\n",
       "      <td>-0.004350</td>\n",
       "    </tr>\n",
       "  </tbody>\n",
       "</table>\n",
       "</div>"
      ],
      "text/plain": [
       "                 0         1         2         3         4         5   \\\n",
       "cancelled  0.206052  0.053729  0.256403  0.537740  0.300424  0.348373   \n",
       "customer   0.040853  0.597209 -0.231947  0.023886  0.016927  0.017864   \n",
       "delayed    0.102654  0.018021  0.060898 -0.067235 -0.123148  0.014226   \n",
       "flight     0.938985 -0.156367 -0.229876 -0.095150 -0.006622 -0.080802   \n",
       "flightled  0.104085  0.030010  0.154799  0.321142  0.169074  0.203668   \n",
       "\n",
       "                 6         7         8         9         10        11  \\\n",
       "cancelled -0.182365 -0.080782  0.131856 -0.039451 -0.054484  0.050685   \n",
       "customer   0.002515 -0.010386 -0.009554  0.006686 -0.040284 -0.030180   \n",
       "delayed   -0.125425  0.054885 -0.090437  0.676549  0.474819 -0.259385   \n",
       "flight     0.069457  0.016728 -0.036104 -0.057552 -0.041218 -0.018984   \n",
       "flightled -0.112183 -0.046553  0.073724 -0.028702 -0.041669  0.039886   \n",
       "\n",
       "                 12        13  \n",
       "cancelled -0.024647 -0.019786  \n",
       "customer  -0.026582  0.018302  \n",
       "delayed   -0.045665  0.015138  \n",
       "flight    -0.008199 -0.006331  \n",
       "flightled -0.005831 -0.004350  "
      ]
     },
     "execution_count": 47,
     "metadata": {},
     "output_type": "execute_result"
    }
   ],
   "source": [
    "SVD = TruncatedSVD(n_components = 14, random_state=42)\n",
    "SVD.fit_transform(negative_text)\n",
    "\n",
    "SVD.explained_variance_ratio_.sum()\n",
    "\n",
    "neg_words = pd.DataFrame(SVD.components_.T, index = n_vec.get_feature_names())\n",
    "#neg_words[0].sort_values(ascending = False)[:10]\n",
    "neg_words.head()"
   ]
  },
  {
   "cell_type": "code",
   "execution_count": 48,
   "metadata": {
    "collapsed": false
   },
   "outputs": [
    {
     "name": "stdout",
     "output_type": "stream",
     "text": [
      "3069\n",
      "2363\n"
     ]
    }
   ],
   "source": [
    "# TRY SOMETHING NEW\n",
    "# Even out the distribution of positive/negatives\n",
    "\n",
    "df_pos = df[df['airline_sentiment']=='positive']\n",
    "df_neg = df[df['airline_sentiment']=='negative']\n",
    "df_neg = df_neg[df_neg.index % 3 == 0]\n",
    "print len(df_neg)\n",
    "print len(df_pos)\n",
    "posneg_df = pd.concat([df_pos, df_neg], axis=0)\n",
    "\n",
    "def weights(positives, negatives, df):\n",
    "    # Return a list of tweet weight based on given positive and negative words\n",
    "    \n",
    "    weights = []\n",
    "    for tweet in df['text']:\n",
    "        temp = 0\n",
    "        for word in positives:\n",
    "            if word in tweet.decode('utf-8'):\n",
    "                temp += 10\n",
    "        for word in negatives:\n",
    "            if word in tweet.decode('utf-8'):\n",
    "                temp -= 10\n",
    "        weights.append(temp)\n",
    "    return weights\n",
    "\n",
    "df['top_20_weights'] = weights(pos_frequency.index,neg_frequency.index, df)\n",
    "posneg_df['top_20_weights'] = weights(pos_frequency.index, neg_frequency.index, posneg_df)"
   ]
  },
  {
   "cell_type": "markdown",
   "metadata": {
    "collapsed": true
   },
   "source": [
    "\n"
   ]
  },
  {
   "cell_type": "code",
   "execution_count": 49,
   "metadata": {
    "collapsed": false
   },
   "outputs": [],
   "source": [
    "from sklearn.cluster import AgglomerativeClustering\n"
   ]
  },
  {
   "cell_type": "code",
   "execution_count": 50,
   "metadata": {
    "collapsed": false
   },
   "outputs": [],
   "source": [
    "tfidf = TfidfVectorizer(stop_words='english', \n",
    "                        token_pattern='[a-zA-Z]{4,50}',\n",
    "                        ngram_range=(1,1), \n",
    "                        min_df=2, \n",
    "                        max_df=0.5\n",
    "                       )\n",
    "\n",
    "n_vec = tfidf.fit(df_neg['text'])\n",
    "X_neg = tfidf.fit_transform(df_neg['text'])\n",
    "X_neg_vocab = tfidf.vocabulary_\n",
    "\n",
    "p_vec = tfidf.fit(df_pos['text'])\n",
    "X_pos = tfidf.fit_transform(df_pos['text'])\n",
    "X_pos_vocab = tfidf.vocabulary_\n",
    "\n",
    "df['all_weights'] = weights(X_pos_vocab, X_neg_vocab, df)\n",
    "posneg_df['all_weights'] = weights(X_pos_vocab, X_neg_vocab, posneg_df)"
   ]
  },
  {
   "cell_type": "code",
   "execution_count": 51,
   "metadata": {
    "collapsed": false
   },
   "outputs": [],
   "source": [
    "vec = tfidf.fit(posneg_df['text'])\n",
    "posneg_text = tfidf.fit_transform(posneg_df['text'])\n",
    "posneg_vocab = tfidf.vocabulary_"
   ]
  },
  {
   "cell_type": "code",
   "execution_count": 53,
   "metadata": {
    "collapsed": false
   },
   "outputs": [],
   "source": [
    "from sklearn.pipeline import make_pipeline\n",
    "from sklearn.preprocessing import Normalizer\n",
    "\n",
    "svd = TruncatedSVD(550)\n",
    "normalizer = Normalizer(copy=False)\n",
    "lsa = make_pipeline(svd, normalizer)\n",
    "posneg_lsa = lsa.fit_transform(posneg_text)"
   ]
  },
  {
   "cell_type": "code",
   "execution_count": 54,
   "metadata": {
    "collapsed": false
   },
   "outputs": [],
   "source": [
    "posneg_lsa = pd.DataFrame(posneg_lsa)\n",
    "\n",
    "weights = posneg_df.loc[:,('all_weights','top_20_weights')]\n",
    "weights_copy = weights.copy()\n",
    "weights_copy.index = range(5432)\n",
    "\n",
    "final_X = pd.concat([weights_copy, posneg_lsa], axis = 1)"
   ]
  },
  {
   "cell_type": "code",
   "execution_count": 55,
   "metadata": {
    "collapsed": false
   },
   "outputs": [],
   "source": [
    "ac = AgglomerativeClustering(n_clusters=2)\n",
    "ac.fit(final_X)\n",
    "labels = pd.DataFrame(ac.labels_)\n",
    "\n",
    "km2 = KMeans(n_clusters=2, init='k-means++', max_iter=100, n_init=30)\n",
    "km2.fit(final_X)\n",
    "labels2 = pd.DataFrame(km2.labels_)"
   ]
  },
  {
   "cell_type": "code",
   "execution_count": 56,
   "metadata": {
    "collapsed": false
   },
   "outputs": [
    {
     "name": "stdout",
     "output_type": "stream",
     "text": [
      "             precision    recall  f1-score   support\n",
      "\n",
      "          0       0.94      0.71      0.81      3069\n",
      "          1       0.72      0.94      0.81      2363\n",
      "\n",
      "avg / total       0.84      0.81      0.81      5432\n",
      "\n",
      "[[2193  876]\n",
      " [ 137 2226]]\n",
      "Homogeneity Score: 0.363453010268\n",
      "Rand: 0.392845551789\n"
     ]
    }
   ],
   "source": [
    "from sklearn.metrics import confusion_matrix, classification_report\n",
    "from sklearn.metrics import confusion_matrix, classification_report, homogeneity_score, adjusted_rand_score\n",
    "\n",
    "# posneg_lsa + weights \n",
    "le = LabelEncoder()\n",
    "y = le.fit_transform(posneg_df['airline_sentiment'])\n",
    "\n",
    "y_pred = np.choose(labels, [0,1])\n",
    "y_pred\n",
    "print classification_report(y, y_pred)\n",
    "print confusion_matrix(y, y_pred)\n",
    "print 'Homogeneity Score:', homogeneity_score(y, y_pred[0])\n",
    "print 'Rand:', adjusted_rand_score(y, y_pred[0])\n"
   ]
  },
  {
   "cell_type": "code",
   "execution_count": 57,
   "metadata": {
    "collapsed": false
   },
   "outputs": [
    {
     "name": "stdout",
     "output_type": "stream",
     "text": [
      "             precision    recall  f1-score   support\n",
      "\n",
      "          0       0.94      0.69      0.79      3069\n",
      "          1       0.70      0.94      0.80      2363\n",
      "\n",
      "avg / total       0.84      0.80      0.80      5432\n",
      "\n",
      "[[2109  960]\n",
      " [ 135 2228]]\n",
      "Homogeneity Score: 0.33835132195\n",
      "Rand: 0.355768558281\n"
     ]
    }
   ],
   "source": [
    "y_pred2 = np.choose(labels2, [1,0])\n",
    "print classification_report(y, y_pred2)\n",
    "print confusion_matrix(y, y_pred2)\n",
    "print 'Homogeneity Score:', homogeneity_score(y, y_pred2[0])\n",
    "print 'Rand:', adjusted_rand_score(y, y_pred2[0])"
   ]
  },
  {
   "cell_type": "code",
   "execution_count": 58,
   "metadata": {
    "collapsed": false
   },
   "outputs": [
    {
     "data": {
      "image/png": "[encoded data removed]",
      "text/plain": [
       "<matplotlib.figure.Figure at 0x1163926d0>"
      ]
     },
     "metadata": {},
     "output_type": "display_data"
    }
   ],
   "source": [
    "from scipy.cluster.hierarchy import fcluster\n",
    "from sklearn.cluster import AgglomerativeClustering\n",
    "from scipy.cluster.hierarchy import dendrogram, linkage, cophenet\n",
    "from scipy.spatial.distance import pdist\n",
    "\n",
    "Z = linkage(final_X, 'ward')\n",
    "\n",
    "\n",
    "plt.figure(figsize=(6,3))\n",
    "plt.title('Positive and negative tweet dendrogram')\n",
    "plt.xlabel('Words')\n",
    "dendrogram(\n",
    "    Z,\n",
    "    leaf_rotation=90.,  \n",
    "    leaf_font_size=15.,\n",
    ")\n",
    "plt.show()\n",
    "\n",
    "# plot the two weught columns separated by hue\n"
   ]
  },
  {
   "cell_type": "code",
   "execution_count": null,
   "metadata": {
    "collapsed": false
   },
   "outputs": [],
   "source": [
    "\n"
   ]
  },
  {
   "cell_type": "code",
   "execution_count": 60,
   "metadata": {
    "collapsed": false
   },
   "outputs": [
    {
     "name": "stdout",
     "output_type": "stream",
     "text": [
      "Top terms per cluster:\n",
      "Cluster 0:\n",
      " aarp\n",
      " aadvantage\n",
      " abcnetwork\n",
      " able\n",
      " aboard\n",
      " absolute\n",
      " abysmal\n",
      " ability\n",
      " accepted\n",
      " accommodating\n",
      "Cluster 1:\n",
      " able\n",
      " abcnetwork\n",
      " accommodate\n",
      " accepting\n",
      " abysmal\n",
      " absurd\n",
      " acct\n",
      " accident\n",
      " accurate\n",
      " accomplished\n"
     ]
    }
   ],
   "source": [
    "print(\"Top terms per cluster:\")\n",
    "true_k = 2\n",
    "order_centroids = km2.cluster_centers_.argsort()[:, ::-1]\n",
    "\n",
    "terms = tfidf.get_feature_names()\n",
    "for i in range(true_k):\n",
    "    print \"Cluster %d:\" % i\n",
    "    for ind in order_centroids[i, :10]:\n",
    "        print ' %s' % terms[ind]\n"
   ]
  },
  {
   "cell_type": "code",
   "execution_count": null,
   "metadata": {
    "collapsed": true
   },
   "outputs": [],
   "source": []
  },
  {
   "cell_type": "code",
   "execution_count": 61,
   "metadata": {
    "collapsed": true
   },
   "outputs": [],
   "source": [
    "from sklearn.pipeline import make_pipeline\n",
    "from sklearn.preprocessing import Normalizer\n"
   ]
  },
  {
   "cell_type": "code",
   "execution_count": 62,
   "metadata": {
    "collapsed": true
   },
   "outputs": [],
   "source": [
    "from sklearn.metrics import f1_score\n",
    "\n",
    "# fit the kmeans with given features and return labels\n",
    "def km_fitter(features):\n",
    "    km = KMeans(n_clusters=2, init='k-means++', max_iter=100, n_init=30)\n",
    "    km.fit(features)\n",
    "    labels = pd.DataFrame(km.labels_)\n",
    "    return labels\n",
    "\n",
    "# fit the agglomerative clustering with given features and return labels\n",
    "def ac_fitter(features):\n",
    "    ac = AgglomerativeClustering(n_clusters=2)\n",
    "    ac.fit(features)\n",
    "    labels = pd.DataFrame(ac.labels_)\n",
    "    return labels\n",
    "\n",
    "# print classification report, confusion matrix, and return the predictions\n",
    "def printer(labels):\n",
    "    le = LabelEncoder()\n",
    "    y = le.fit_transform(posneg_df['airline_sentiment'])\n",
    "    \n",
    "    \n",
    "    labels2 = labels.copy()\n",
    "    # get f1 score for one set of cnf matrix\n",
    "    y_pred1 = np.choose(labels, [1,0])\n",
    "    a = classification_report(y, y_pred1).split('total')[1].split('      ')[3]\n",
    "    # get f1 score for other set\n",
    "    y_pred2 = np.choose(labels2, [0,1])\n",
    "    b = classification_report(y, y_pred2).split('total')[1].split('      ')[3]\n",
    "    \n",
    "    # Use the BEST cnf matrix for evaluation.\n",
    "    if a >= b:\n",
    "        y_pred = y_pred1\n",
    "    else:\n",
    "        y_pred = y_pred2\n",
    "        \n",
    "    print classification_report(y, y_pred)\n",
    "    print confusion_matrix(y, y_pred)\n",
    "    print 'Homogeneity Score:', homogeneity_score(y, y_pred[0])\n",
    "    print 'Rand:', adjusted_rand_score(y, y_pred[0])\n",
    "    return y_pred "
   ]
  },
  {
   "cell_type": "markdown",
   "metadata": {},
   "source": [
    "# Let's try different combinations of features"
   ]
  },
  {
   "cell_type": "code",
   "execution_count": 63,
   "metadata": {
    "collapsed": false
   },
   "outputs": [
    {
     "name": "stdout",
     "output_type": "stream",
     "text": [
      "Positive and negative terms with Latent Semantic Analysis\n",
      "<================================================================>\n",
      "Agglomerative Clustering\n",
      "             precision    recall  f1-score   support\n",
      "\n",
      "          0       0.58      1.00      0.73      3069\n",
      "          1       1.00      0.04      0.08      2363\n",
      "\n",
      "avg / total       0.76      0.58      0.45      5432\n",
      "\n",
      "[[3069    0]\n",
      " [2262  101]]\n",
      "Homogeneity Score: 0.0229392782598\n",
      "Rand: 0.0124644450766\n",
      "<================================================================>\n",
      "KMeans Clustering\n",
      "             precision    recall  f1-score   support\n",
      "\n",
      "          0       0.60      1.00      0.75      3069\n",
      "          1       0.99      0.12      0.21      2363\n",
      "\n",
      "avg / total       0.77      0.62      0.51      5432\n",
      "\n",
      "[[3065    4]\n",
      " [2083  280]]\n",
      "Homogeneity Score: 0.0602442147268\n",
      "Rand: 0.0406054180307\n"
     ]
    }
   ],
   "source": [
    "# Just posneg_lsa\n",
    "print \"Positive and negative terms with Latent Semantic Analysis\"\n",
    "print \"<================================================================>\"\n",
    "km_labels = km_fitter(posneg_lsa)\n",
    "ac_labels = ac_fitter(posneg_lsa)\n",
    "print \"Agglomerative Clustering\"\n",
    "ac_pred = printer(ac_labels)\n",
    "print \"<================================================================>\"\n",
    "print \"KMeans Clustering\"\n",
    "km_pred = printer(km_labels)\n"
   ]
  },
  {
   "cell_type": "code",
   "execution_count": 64,
   "metadata": {
    "collapsed": false
   },
   "outputs": [
    {
     "name": "stdout",
     "output_type": "stream",
     "text": [
      "Positive and negative terms with Latent Semantic Analysis\n",
      "<================================================================>\n",
      "Agglomerative Clustering\n",
      "             precision    recall  f1-score   support\n",
      "\n",
      "          0       0.96      0.52      0.68      3069\n",
      "          1       0.61      0.97      0.75      2363\n",
      "\n",
      "avg / total       0.81      0.72      0.71      5432\n",
      "\n",
      "[[1607 1462]\n",
      " [  66 2297]]\n",
      "Homogeneity Score: 0.249815253903\n",
      "Rand: 0.18918072116\n",
      "<================================================================>\n",
      "KMeans Clustering\n",
      "             precision    recall  f1-score   support\n",
      "\n",
      "          0       0.94      0.69      0.79      3069\n",
      "          1       0.70      0.94      0.80      2363\n",
      "\n",
      "avg / total       0.84      0.80      0.80      5432\n",
      "\n",
      "[[2109  960]\n",
      " [ 135 2228]]\n",
      "Homogeneity Score: 0.33835132195\n",
      "Rand: 0.355768558281\n"
     ]
    }
   ],
   "source": [
    "# Just the weights\n",
    "print \"Positive and negative terms with Latent Semantic Analysis\"\n",
    "print \"<================================================================>\"\n",
    "km_labels = km_fitter(weights_copy)\n",
    "ac_labels = ac_fitter(weights_copy)\n",
    "print \"Agglomerative Clustering\"\n",
    "ac_pred = printer(ac_labels)\n",
    "print \"<================================================================>\"\n",
    "print \"KMeans Clustering\"\n",
    "km_pred = printer(km_labels)\n"
   ]
  },
  {
   "cell_type": "code",
   "execution_count": 65,
   "metadata": {
    "collapsed": false
   },
   "outputs": [],
   "source": [
    "svd = TruncatedSVD(550)\n",
    "normalizer = Normalizer(copy=False)\n",
    "\n",
    "weights = posneg_df.loc[:,('all_weights','top_20_weights')]\n",
    "weights_copy = weights.copy()\n",
    "weights_copy.index = range(5432)\n",
    "\n",
    "posneg_svd = svd.fit_transform(posneg_text)\n",
    "\n",
    "posneg_svd = pd.DataFrame(posneg_svd)\n",
    "\n",
    "test = pd.concat([weights_copy, posneg_lsa], axis = 1)\n",
    "\n",
    "final_X_normal = normalizer.fit_transform(test)"
   ]
  },
  {
   "cell_type": "code",
   "execution_count": 66,
   "metadata": {
    "collapsed": false
   },
   "outputs": [
    {
     "name": "stdout",
     "output_type": "stream",
     "text": [
      "Positive and negative terms with Latent Semantic Analysis\n",
      "<================================================================>\n",
      "Agglomerative Clustering\n",
      "             precision    recall  f1-score   support\n",
      "\n",
      "          0       0.91      0.83      0.87      3069\n",
      "          1       0.80      0.89      0.85      2363\n",
      "\n",
      "avg / total       0.86      0.86      0.86      5432\n",
      "\n",
      "[[2556  513]\n",
      " [ 258 2105]]\n",
      "Homogeneity Score: 0.419901207081\n",
      "Rand: 0.512738584204\n",
      "<================================================================>\n",
      "KMeans Clustering\n",
      "             precision    recall  f1-score   support\n",
      "\n",
      "          0       0.87      0.86      0.86      3069\n",
      "          1       0.82      0.83      0.83      2363\n",
      "\n",
      "avg / total       0.85      0.85      0.85      5432\n",
      "\n",
      "[[2635  434]\n",
      " [ 393 1970]]\n",
      "Homogeneity Score: 0.38052498906\n",
      "Rand: 0.483524129495\n"
     ]
    }
   ],
   "source": [
    "# Weights plus LSA normalized\n",
    "print \"Positive and negative terms with Latent Semantic Analysis\"\n",
    "print \"<================================================================>\"\n",
    "km_labels = km_fitter(final_X_normal)\n",
    "ac_labels = ac_fitter(final_X_normal)\n",
    "print \"Agglomerative Clustering\"\n",
    "ac_pred = printer(ac_labels)\n",
    "print \"<================================================================>\"\n",
    "print \"KMeans Clustering\"\n",
    "km_pred = printer(km_labels)"
   ]
  },
  {
   "cell_type": "code",
   "execution_count": 67,
   "metadata": {
    "collapsed": false
   },
   "outputs": [
    {
     "name": "stdout",
     "output_type": "stream",
     "text": [
      "Positive and negative terms with Latent Semantic Analysis\n",
      "<================================================================>\n",
      "Agglomerative Clustering\n",
      "             precision    recall  f1-score   support\n",
      "\n",
      "          0       0.91      0.41      0.56      3069\n",
      "          1       0.55      0.95      0.70      2363\n",
      "\n",
      "avg / total       0.75      0.64      0.62      5432\n",
      "\n",
      "[[1255 1814]\n",
      " [ 126 2237]]\n",
      "Homogeneity Score: 0.137558610375\n",
      "Rand: 0.0777420800912\n",
      "<================================================================>\n",
      "KMeans Clustering\n",
      "             precision    recall  f1-score   support\n",
      "\n",
      "          0       0.78      0.88      0.83      3069\n",
      "          1       0.81      0.68      0.74      2363\n",
      "\n",
      "avg / total       0.79      0.79      0.79      5432\n",
      "\n",
      "[[2693  376]\n",
      " [ 762 1601]]\n",
      "Homogeneity Score: 0.251265489235\n",
      "Rand: 0.336621896117\n"
     ]
    },
    {
     "data": {
      "image/png": "[encoded data removed]",
      "text/plain": [
       "<matplotlib.figure.Figure at 0x142505310>"
      ]
     },
     "metadata": {},
     "output_type": "display_data"
    }
   ],
   "source": [
    "# Kmeans top 20 weights\n",
    "print \"Positive and negative terms with Latent Semantic Analysis\"\n",
    "print \"<================================================================>\"\n",
    "km_labels = km_fitter(weights.drop(['all_weights'], axis = 1))\n",
    "ac_labels = ac_fitter(weights.drop(['all_weights'], axis = 1))\n",
    "print \"Agglomerative Clustering\"\n",
    "ac_pred = printer(ac_labels)\n",
    "print \"<================================================================>\"\n",
    "print \"KMeans Clustering\"\n",
    "km_pred = printer(km_labels)\n",
    "\n",
    "\n",
    "km = KMeans(n_clusters=2, init='k-means++', max_iter=100, n_init=30)\n",
    "km.fit(weights.drop(['all_weights'], axis = 1))\n",
    "labels = pd.DataFrame(km.labels_)\n",
    "\n",
    "le = LabelEncoder()\n",
    "y = le.fit_transform(posneg_df['airline_sentiment'])\n",
    "\n",
    "labels2 = labels.copy()\n",
    "y_pred1 = np.choose(labels, [1,0])\n",
    "a = classification_report(y, y_pred1).split('total')[1].split('      ')[3]\n",
    "\n",
    "y_pred2 = np.choose(labels2, [0,1])\n",
    "b = classification_report(y, y_pred2).split('total')[1].split('      ')[3]\n",
    "if a >= b:\n",
    "    y_pred = y_pred1\n",
    "else:\n",
    "    y_pred = y_pred2\n",
    "\n",
    "plot_df = pd.DataFrame()\n",
    "plot_df['top_20_weights'] = posneg_df['top_20_weights']      \n",
    "plot_df['labels'] = y_pred\n",
    "plot_df.plot(kind = 'scatter', x = 'top_20_weights', y = 0, c = 'labels')\n",
    "plt.show()\n",
    "    "
   ]
  },
  {
   "cell_type": "code",
   "execution_count": 68,
   "metadata": {
    "collapsed": false
   },
   "outputs": [
    {
     "name": "stdout",
     "output_type": "stream",
     "text": [
      "Agglomerative Clustering\n",
      "             precision    recall  f1-score   support\n",
      "\n",
      "          0       0.93      0.60      0.73      3069\n",
      "          1       0.64      0.94      0.76      2363\n",
      "\n",
      "avg / total       0.80      0.75      0.74      5432\n",
      "\n",
      "[[1845 1224]\n",
      " [ 144 2219]]\n",
      "Homogeneity Score: 0.258597105012\n",
      "Rand: 0.245291407107\n",
      "<================================================================>\n",
      "KMeans Clustering\n",
      "             precision    recall  f1-score   support\n",
      "\n",
      "          0       0.93      0.60      0.73      3069\n",
      "          1       0.64      0.94      0.76      2363\n",
      "\n",
      "avg / total       0.80      0.75      0.74      5432\n",
      "\n",
      "[[1845 1224]\n",
      " [ 144 2219]]\n",
      "Homogeneity Score: 0.258597105012\n",
      "Rand: 0.245291407107\n"
     ]
    },
    {
     "data": {
      "image/png": "[encoded data removed]",
      "text/plain": [
       "<matplotlib.figure.Figure at 0x1034fa610>"
      ]
     },
     "metadata": {},
     "output_type": "display_data"
    }
   ],
   "source": [
    "# Kmeans all weights\n",
    "km_labels = km_fitter(weights.drop(['top_20_weights'], axis = 1))\n",
    "ac_labels = ac_fitter(weights.drop(['top_20_weights'], axis = 1))\n",
    "print \"Agglomerative Clustering\"\n",
    "ac_pred = printer(ac_labels)\n",
    "print \"<================================================================>\"\n",
    "print \"KMeans Clustering\"\n",
    "km_pred = printer(km_labels)\n",
    "\n",
    "km = KMeans(n_clusters=2, init='k-means++', max_iter=100, n_init=30)\n",
    "km.fit(weights.drop(['top_20_weights'], axis = 1))\n",
    "labels = pd.DataFrame(km.labels_)\n",
    "\n",
    "le = LabelEncoder()\n",
    "y = le.fit_transform(posneg_df['airline_sentiment'])\n",
    "\n",
    "labels2 = labels.copy()\n",
    "y_pred1 = np.choose(labels, [1,0])\n",
    "a = classification_report(y, y_pred1).split('total')[1].split('      ')[3]\n",
    "\n",
    "y_pred2 = np.choose(labels2, [0,1])\n",
    "b = classification_report(y, y_pred2).split('total')[1].split('      ')[3]\n",
    "if a >= b:\n",
    "    y_pred = y_pred1\n",
    "else:\n",
    "    y_pred = y_pred2\n",
    "\n",
    "plot_df = pd.DataFrame()\n",
    "plot_df['all_weights'] = posneg_df['all_weights']      \n",
    "plot_df['labels'] = y_pred\n",
    "plot_df.plot(kind = 'scatter', x = 'all_weights', y =0, c = 'labels')\n",
    "plt.show()"
   ]
  },
  {
   "cell_type": "markdown",
   "metadata": {},
   "source": [
    "# Scores summary\n",
    "\n",
    "normalized (LSA: 45)\n",
    "\n",
    "LSA + weights: 81\n",
    "\n",
    "normalized (weights): 71\n",
    "\n",
    "normalized (LSA + weights): 85\n",
    "\n",
    "both weights AC: 71\n",
    "\n",
    "both weights KM: 81\n",
    "\n",
    "Just top_20 KM: 79\n",
    "\n",
    "Just all_weights KM: 74"
   ]
  },
  {
   "cell_type": "markdown",
   "metadata": {
    "collapsed": false
   },
   "source": [
    "# Future considerations and improvements\n",
    "\n",
    "To improve score:\n",
    "\n",
    "Get top 40, stemming\n",
    "\n",
    "Try different n-grams, document frequency\n"
   ]
  },
  {
   "cell_type": "code",
   "execution_count": null,
   "metadata": {
    "collapsed": false
   },
   "outputs": [],
   "source": []
  },
  {
   "cell_type": "code",
   "execution_count": null,
   "metadata": {
    "collapsed": true
   },
   "outputs": [],
   "source": []
  },
  {
   "cell_type": "code",
   "execution_count": null,
   "metadata": {
    "collapsed": true
   },
   "outputs": [],
   "source": []
  },
  {
   "cell_type": "code",
   "execution_count": null,
   "metadata": {
    "collapsed": true
   },
   "outputs": [],
   "source": []
  }
 ],
 "metadata": {
  "anaconda-cloud": {},
  "kernelspec": {
   "display_name": "Python [conda root]",
   "language": "python",
   "name": "conda-root-py"
  },
  "language_info": {
   "codemirror_mode": {
    "name": "ipython",
    "version": 2
   },
   "file_extension": ".py",
   "mimetype": "text/x-python",
   "name": "python",
   "nbconvert_exporter": "python",
   "pygments_lexer": "ipython2",
   "version": "2.7.12"
  }
 },
 "nbformat": 4,
 "nbformat_minor": 1
}
